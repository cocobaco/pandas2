import numpy as np
import pandas as pd

df = pd.DataFrame(np.random.randint(0,100,size=(100,5)), columns=['A','B','C','D','E']

print(df.head(10))

print(df.describe)