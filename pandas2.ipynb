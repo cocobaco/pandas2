import pandas as pd
import numpy as np

df = pd.DataFrame(np.random.randint(0,100,size=(100, 5)), columns=['A','B','C','D','E'])
